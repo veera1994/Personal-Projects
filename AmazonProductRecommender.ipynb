{
 "cells": [
  {
   "cell_type": "code",
   "execution_count": 3,
   "id": "3ebce3bf-bf15-4f1d-97e6-85bc2c0f87d3",
   "metadata": {},
   "outputs": [],
   "source": [
    "import pandas as pd\n",
    "import seaborn as sns\n",
    "import numpy as np\n",
    "import matplotlib.pyplot as plt"
   ]
  },
  {
   "cell_type": "code",
   "execution_count": 96,
   "id": "fffe193a-dd8c-48e0-8cb2-57943b1624a9",
   "metadata": {},
   "outputs": [],
   "source": [
    "df = pd.read_csv('../Data/ratings_Electronics.csv', names=['userId', 'productId','rating','timestamp'])"
   ]
  },
  {
   "cell_type": "code",
   "execution_count": 97,
   "id": "7b804373-2bd1-4b86-9a00-dabee97c0d1f",
   "metadata": {},
   "outputs": [
    {
     "data": {
      "text/html": [
       "<div>\n",
       "<style scoped>\n",
       "    .dataframe tbody tr th:only-of-type {\n",
       "        vertical-align: middle;\n",
       "    }\n",
       "\n",
       "    .dataframe tbody tr th {\n",
       "        vertical-align: top;\n",
       "    }\n",
       "\n",
       "    .dataframe thead th {\n",
       "        text-align: right;\n",
       "    }\n",
       "</style>\n",
       "<table border=\"1\" class=\"dataframe\">\n",
       "  <thead>\n",
       "    <tr style=\"text-align: right;\">\n",
       "      <th></th>\n",
       "      <th>userId</th>\n",
       "      <th>productId</th>\n",
       "      <th>rating</th>\n",
       "      <th>timestamp</th>\n",
       "    </tr>\n",
       "  </thead>\n",
       "  <tbody>\n",
       "    <tr>\n",
       "      <th>0</th>\n",
       "      <td>AKM1MP6P0OYPR</td>\n",
       "      <td>0132793040</td>\n",
       "      <td>5.0</td>\n",
       "      <td>1365811200</td>\n",
       "    </tr>\n",
       "    <tr>\n",
       "      <th>1</th>\n",
       "      <td>A2CX7LUOHB2NDG</td>\n",
       "      <td>0321732944</td>\n",
       "      <td>5.0</td>\n",
       "      <td>1341100800</td>\n",
       "    </tr>\n",
       "    <tr>\n",
       "      <th>2</th>\n",
       "      <td>A2NWSAGRHCP8N5</td>\n",
       "      <td>0439886341</td>\n",
       "      <td>1.0</td>\n",
       "      <td>1367193600</td>\n",
       "    </tr>\n",
       "    <tr>\n",
       "      <th>3</th>\n",
       "      <td>A2WNBOD3WNDNKT</td>\n",
       "      <td>0439886341</td>\n",
       "      <td>3.0</td>\n",
       "      <td>1374451200</td>\n",
       "    </tr>\n",
       "    <tr>\n",
       "      <th>4</th>\n",
       "      <td>A1GI0U4ZRJA8WN</td>\n",
       "      <td>0439886341</td>\n",
       "      <td>1.0</td>\n",
       "      <td>1334707200</td>\n",
       "    </tr>\n",
       "  </tbody>\n",
       "</table>\n",
       "</div>"
      ],
      "text/plain": [
       "           userId   productId  rating   timestamp\n",
       "0   AKM1MP6P0OYPR  0132793040     5.0  1365811200\n",
       "1  A2CX7LUOHB2NDG  0321732944     5.0  1341100800\n",
       "2  A2NWSAGRHCP8N5  0439886341     1.0  1367193600\n",
       "3  A2WNBOD3WNDNKT  0439886341     3.0  1374451200\n",
       "4  A1GI0U4ZRJA8WN  0439886341     1.0  1334707200"
      ]
     },
     "execution_count": 97,
     "metadata": {},
     "output_type": "execute_result"
    }
   ],
   "source": [
    "df.head()"
   ]
  },
  {
   "cell_type": "code",
   "execution_count": 98,
   "id": "66bfa2fb-6d6d-4051-9eea-85e78fb1b8a0",
   "metadata": {},
   "outputs": [
    {
     "data": {
      "text/plain": [
       "(7824482, 4)"
      ]
     },
     "execution_count": 98,
     "metadata": {},
     "output_type": "execute_result"
    }
   ],
   "source": [
    "df.shape"
   ]
  },
  {
   "cell_type": "code",
   "execution_count": 99,
   "id": "5e6647b3-ba5d-4b2d-a13f-9922a61071ca",
   "metadata": {},
   "outputs": [
    {
     "data": {
      "text/plain": [
       "userId       0\n",
       "productId    0\n",
       "rating       0\n",
       "timestamp    0\n",
       "dtype: int64"
      ]
     },
     "execution_count": 99,
     "metadata": {},
     "output_type": "execute_result"
    }
   ],
   "source": [
    "df.isnull().sum()"
   ]
  },
  {
   "cell_type": "code",
   "execution_count": 100,
   "id": "5f6267e6-94a1-4cd4-baa8-1fb785c60cc6",
   "metadata": {},
   "outputs": [
    {
     "data": {
      "text/plain": [
       "userId        object\n",
       "productId     object\n",
       "rating       float64\n",
       "timestamp      int64\n",
       "dtype: object"
      ]
     },
     "execution_count": 100,
     "metadata": {},
     "output_type": "execute_result"
    }
   ],
   "source": [
    "df.dtypes"
   ]
  },
  {
   "cell_type": "code",
   "execution_count": 101,
   "id": "c57d2ce5-7b33-4b07-8dc4-59b6fcf70e91",
   "metadata": {},
   "outputs": [],
   "source": [
    "df = df.drop('timestamp', axis=1)"
   ]
  },
  {
   "cell_type": "code",
   "execution_count": 102,
   "id": "e5238be7-2a77-4ae5-8ce7-5a47e428db1b",
   "metadata": {},
   "outputs": [
    {
     "data": {
      "text/plain": [
       "array([5., 1., 3., 2., 4.])"
      ]
     },
     "execution_count": 102,
     "metadata": {},
     "output_type": "execute_result"
    }
   ],
   "source": [
    "df.rating.unique()"
   ]
  },
  {
   "cell_type": "code",
   "execution_count": 103,
   "id": "24ba2d72-88b2-406e-a117-e984bd5913b3",
   "metadata": {},
   "outputs": [
    {
     "data": {
      "text/plain": [
       "<AxesSubplot:xlabel='rating', ylabel='count'>"
      ]
     },
     "execution_count": 103,
     "metadata": {},
     "output_type": "execute_result"
    },
    {
     "data": {
      "image/png": "[encoded data removed]",
      "text/plain": [
       "<Figure size 432x288 with 1 Axes>"
      ]
     },
     "metadata": {
      "needs_background": "light"
     },
     "output_type": "display_data"
    }
   ],
   "source": [
    "sns.countplot(data=df, x='rating')"
   ]
  },
  {
   "cell_type": "code",
   "execution_count": 104,
   "id": "54f18ff0-b764-4b3d-9858-ae65b6ca06c4",
   "metadata": {},
   "outputs": [],
   "source": [
    "# To downsize the problem. Lets take a sample of the data\n",
    "df = df.sample(frac=0.5)"
   ]
  },
  {
   "cell_type": "code",
   "execution_count": 105,
   "id": "acaf1c2b-f6f0-44e9-8c5b-5e057c74d0dc",
   "metadata": {},
   "outputs": [
    {
     "data": {
      "text/plain": [
       "(3912241, 3)"
      ]
     },
     "execution_count": 105,
     "metadata": {},
     "output_type": "execute_result"
    }
   ],
   "source": [
    "df.shape"
   ]
  },
  {
   "cell_type": "code",
   "execution_count": 106,
   "id": "c7beffd4-817d-449a-8b12-4888f12a2c35",
   "metadata": {},
   "outputs": [
    {
     "data": {
      "text/plain": [
       "<AxesSubplot:xlabel='rating', ylabel='count'>"
      ]
     },
     "execution_count": 106,
     "metadata": {},
     "output_type": "execute_result"
    },
    {
     "data": {
      "image/png": "[encoded data removed]",
      "text/plain": [
       "<Figure size 432x288 with 1 Axes>"
      ]
     },
     "metadata": {
      "needs_background": "light"
     },
     "output_type": "display_data"
    }
   ],
   "source": [
    "sns.countplot(data=df, x='rating')"
   ]
  },
  {
   "cell_type": "code",
   "execution_count": 107,
   "id": "73aec600-309f-4c81-a50f-b49ecbd321da",
   "metadata": {},
   "outputs": [
    {
     "data": {
      "text/plain": [
       "2549914"
      ]
     },
     "execution_count": 107,
     "metadata": {},
     "output_type": "execute_result"
    }
   ],
   "source": [
    "df.userId.nunique()"
   ]
  },
  {
   "cell_type": "code",
   "execution_count": 108,
   "id": "b7188cc0-46c3-4d59-81c8-d5bd81b411c4",
   "metadata": {},
   "outputs": [
    {
     "data": {
      "text/plain": [
       "360614"
      ]
     },
     "execution_count": 108,
     "metadata": {},
     "output_type": "execute_result"
    }
   ],
   "source": [
    "df.productId.nunique()"
   ]
  },
  {
   "cell_type": "code",
   "execution_count": 109,
   "id": "2df84237-77ad-41b7-88d1-ec422e12c9bf",
   "metadata": {},
   "outputs": [
    {
     "data": {
      "text/plain": [
       "A3OXHLG6DIBRW8    271\n",
       "A5JLAU2ARJ0BO     259\n",
       "ADLVFFE4VBT8      255\n",
       "A680RUE1FDO8B     215\n",
       "A6FIAB28IS79      214\n",
       "                 ... \n",
       "A2IWQ5OFLTFIS7      1\n",
       "A26LTSEM96W94X      1\n",
       "A2WZWY5MQTXO0R      1\n",
       "A1Y8WGEK4YBQXA      1\n",
       "A2NRNUFL3LW55V      1\n",
       "Name: userId, Length: 2549914, dtype: int64"
      ]
     },
     "execution_count": 109,
     "metadata": {},
     "output_type": "execute_result"
    }
   ],
   "source": [
    "df.userId.value_counts()"
   ]
  },
  {
   "cell_type": "code",
   "execution_count": 110,
   "id": "24e2f6e8-1ace-43f4-adcc-6f1256eaccc7",
   "metadata": {},
   "outputs": [],
   "source": [
    "frequent_raters = df.userId.value_counts()\n",
    "frequent_raters = frequent_raters[frequent_raters>50]"
   ]
  },
  {
   "cell_type": "code",
   "execution_count": 111,
   "id": "42719d27-f46e-46e4-9dcd-ad18b747ab03",
   "metadata": {},
   "outputs": [],
   "source": [
    "new_df = df[df.userId.isin(frequent_raters.index)]"
   ]
  },
  {
   "cell_type": "code",
   "execution_count": 112,
   "id": "01be24bb-534e-43d9-a884-36de782a0a37",
   "metadata": {},
   "outputs": [
    {
     "data": {
      "text/plain": [
       "(22080, 3)"
      ]
     },
     "execution_count": 112,
     "metadata": {},
     "output_type": "execute_result"
    }
   ],
   "source": [
    "new_df.shape"
   ]
  },
  {
   "cell_type": "code",
   "execution_count": 113,
   "id": "9a8f37fc-7aa2-4e04-8e39-9621c9847377",
   "metadata": {},
   "outputs": [],
   "source": [
    "utility_matrix = pd.pivot_table(data=new_df, index='userId', columns='productId', values='rating').fillna(0)"
   ]
  },
  {
   "cell_type": "code",
   "execution_count": 114,
   "id": "f6959aa1-bdf9-4a8b-bdb3-6e0ff4501a63",
   "metadata": {},
   "outputs": [
    {
     "data": {
      "text/html": [
       "<div>\n",
       "<style scoped>\n",
       "    .dataframe tbody tr th:only-of-type {\n",
       "        vertical-align: middle;\n",
       "    }\n",
       "\n",
       "    .dataframe tbody tr th {\n",
       "        vertical-align: top;\n",
       "    }\n",
       "\n",
       "    .dataframe thead th {\n",
       "        text-align: right;\n",
       "    }\n",
       "</style>\n",
       "<table border=\"1\" class=\"dataframe\">\n",
       "  <thead>\n",
       "    <tr style=\"text-align: right;\">\n",
       "      <th>productId</th>\n",
       "      <th>0970407998</th>\n",
       "      <th>1400501776</th>\n",
       "      <th>1400532620</th>\n",
       "      <th>1400532655</th>\n",
       "      <th>1400599997</th>\n",
       "      <th>1400699169</th>\n",
       "      <th>1685560148</th>\n",
       "      <th>7562434166</th>\n",
       "      <th>787988002X</th>\n",
       "      <th>8862936826</th>\n",
       "      <th>...</th>\n",
       "      <th>B00L21HC7A</th>\n",
       "      <th>B00L2442H0</th>\n",
       "      <th>B00L26YDA4</th>\n",
       "      <th>B00L2P3TRS</th>\n",
       "      <th>B00L3YHF6O</th>\n",
       "      <th>B00L403O94</th>\n",
       "      <th>B00L8I6SFY</th>\n",
       "      <th>B00LA6T0LS</th>\n",
       "      <th>B00LGQ6HL8</th>\n",
       "      <th>B00LI4ZZO8</th>\n",
       "    </tr>\n",
       "    <tr>\n",
       "      <th>userId</th>\n",
       "      <th></th>\n",
       "      <th></th>\n",
       "      <th></th>\n",
       "      <th></th>\n",
       "      <th></th>\n",
       "      <th></th>\n",
       "      <th></th>\n",
       "      <th></th>\n",
       "      <th></th>\n",
       "      <th></th>\n",
       "      <th></th>\n",
       "      <th></th>\n",
       "      <th></th>\n",
       "      <th></th>\n",
       "      <th></th>\n",
       "      <th></th>\n",
       "      <th></th>\n",
       "      <th></th>\n",
       "      <th></th>\n",
       "      <th></th>\n",
       "      <th></th>\n",
       "    </tr>\n",
       "  </thead>\n",
       "  <tbody>\n",
       "    <tr>\n",
       "      <th>A100UD67AHFODS</th>\n",
       "      <td>0.0</td>\n",
       "      <td>0.0</td>\n",
       "      <td>0.0</td>\n",
       "      <td>0.0</td>\n",
       "      <td>0.0</td>\n",
       "      <td>0.0</td>\n",
       "      <td>0.0</td>\n",
       "      <td>0.0</td>\n",
       "      <td>0.0</td>\n",
       "      <td>0.0</td>\n",
       "      <td>...</td>\n",
       "      <td>0.0</td>\n",
       "      <td>0.0</td>\n",
       "      <td>0.0</td>\n",
       "      <td>0.0</td>\n",
       "      <td>0.0</td>\n",
       "      <td>0.0</td>\n",
       "      <td>0.0</td>\n",
       "      <td>0.0</td>\n",
       "      <td>0.0</td>\n",
       "      <td>0.0</td>\n",
       "    </tr>\n",
       "    <tr>\n",
       "      <th>A100WO06OQR8BQ</th>\n",
       "      <td>0.0</td>\n",
       "      <td>0.0</td>\n",
       "      <td>0.0</td>\n",
       "      <td>0.0</td>\n",
       "      <td>0.0</td>\n",
       "      <td>0.0</td>\n",
       "      <td>0.0</td>\n",
       "      <td>0.0</td>\n",
       "      <td>0.0</td>\n",
       "      <td>0.0</td>\n",
       "      <td>...</td>\n",
       "      <td>0.0</td>\n",
       "      <td>0.0</td>\n",
       "      <td>0.0</td>\n",
       "      <td>0.0</td>\n",
       "      <td>0.0</td>\n",
       "      <td>0.0</td>\n",
       "      <td>0.0</td>\n",
       "      <td>0.0</td>\n",
       "      <td>0.0</td>\n",
       "      <td>0.0</td>\n",
       "    </tr>\n",
       "    <tr>\n",
       "      <th>A10NMELR4KX0J6</th>\n",
       "      <td>0.0</td>\n",
       "      <td>0.0</td>\n",
       "      <td>0.0</td>\n",
       "      <td>0.0</td>\n",
       "      <td>0.0</td>\n",
       "      <td>0.0</td>\n",
       "      <td>0.0</td>\n",
       "      <td>0.0</td>\n",
       "      <td>0.0</td>\n",
       "      <td>0.0</td>\n",
       "      <td>...</td>\n",
       "      <td>0.0</td>\n",
       "      <td>0.0</td>\n",
       "      <td>0.0</td>\n",
       "      <td>0.0</td>\n",
       "      <td>0.0</td>\n",
       "      <td>0.0</td>\n",
       "      <td>0.0</td>\n",
       "      <td>0.0</td>\n",
       "      <td>0.0</td>\n",
       "      <td>0.0</td>\n",
       "    </tr>\n",
       "    <tr>\n",
       "      <th>A10Y058K7B96C6</th>\n",
       "      <td>0.0</td>\n",
       "      <td>0.0</td>\n",
       "      <td>0.0</td>\n",
       "      <td>0.0</td>\n",
       "      <td>0.0</td>\n",
       "      <td>0.0</td>\n",
       "      <td>0.0</td>\n",
       "      <td>0.0</td>\n",
       "      <td>0.0</td>\n",
       "      <td>0.0</td>\n",
       "      <td>...</td>\n",
       "      <td>0.0</td>\n",
       "      <td>0.0</td>\n",
       "      <td>0.0</td>\n",
       "      <td>0.0</td>\n",
       "      <td>0.0</td>\n",
       "      <td>0.0</td>\n",
       "      <td>0.0</td>\n",
       "      <td>0.0</td>\n",
       "      <td>0.0</td>\n",
       "      <td>0.0</td>\n",
       "    </tr>\n",
       "    <tr>\n",
       "      <th>A10ZFE6YE0UHW8</th>\n",
       "      <td>0.0</td>\n",
       "      <td>0.0</td>\n",
       "      <td>0.0</td>\n",
       "      <td>0.0</td>\n",
       "      <td>0.0</td>\n",
       "      <td>0.0</td>\n",
       "      <td>0.0</td>\n",
       "      <td>0.0</td>\n",
       "      <td>0.0</td>\n",
       "      <td>0.0</td>\n",
       "      <td>...</td>\n",
       "      <td>0.0</td>\n",
       "      <td>0.0</td>\n",
       "      <td>0.0</td>\n",
       "      <td>0.0</td>\n",
       "      <td>0.0</td>\n",
       "      <td>0.0</td>\n",
       "      <td>0.0</td>\n",
       "      <td>0.0</td>\n",
       "      <td>0.0</td>\n",
       "      <td>0.0</td>\n",
       "    </tr>\n",
       "  </tbody>\n",
       "</table>\n",
       "<p>5 rows × 13824 columns</p>\n",
       "</div>"
      ],
      "text/plain": [
       "productId       0970407998  1400501776  1400532620  1400532655  1400599997  \\\n",
       "userId                                                                       \n",
       "A100UD67AHFODS         0.0         0.0         0.0         0.0         0.0   \n",
       "A100WO06OQR8BQ         0.0         0.0         0.0         0.0         0.0   \n",
       "A10NMELR4KX0J6         0.0         0.0         0.0         0.0         0.0   \n",
       "A10Y058K7B96C6         0.0         0.0         0.0         0.0         0.0   \n",
       "A10ZFE6YE0UHW8         0.0         0.0         0.0         0.0         0.0   \n",
       "\n",
       "productId       1400699169  1685560148  7562434166  787988002X  8862936826  \\\n",
       "userId                                                                       \n",
       "A100UD67AHFODS         0.0         0.0         0.0         0.0         0.0   \n",
       "A100WO06OQR8BQ         0.0         0.0         0.0         0.0         0.0   \n",
       "A10NMELR4KX0J6         0.0         0.0         0.0         0.0         0.0   \n",
       "A10Y058K7B96C6         0.0         0.0         0.0         0.0         0.0   \n",
       "A10ZFE6YE0UHW8         0.0         0.0         0.0         0.0         0.0   \n",
       "\n",
       "productId       ...  B00L21HC7A  B00L2442H0  B00L26YDA4  B00L2P3TRS  \\\n",
       "userId          ...                                                   \n",
       "A100UD67AHFODS  ...         0.0         0.0         0.0         0.0   \n",
       "A100WO06OQR8BQ  ...         0.0         0.0         0.0         0.0   \n",
       "A10NMELR4KX0J6  ...         0.0         0.0         0.0         0.0   \n",
       "A10Y058K7B96C6  ...         0.0         0.0         0.0         0.0   \n",
       "A10ZFE6YE0UHW8  ...         0.0         0.0         0.0         0.0   \n",
       "\n",
       "productId       B00L3YHF6O  B00L403O94  B00L8I6SFY  B00LA6T0LS  B00LGQ6HL8  \\\n",
       "userId                                                                       \n",
       "A100UD67AHFODS         0.0         0.0         0.0         0.0         0.0   \n",
       "A100WO06OQR8BQ         0.0         0.0         0.0         0.0         0.0   \n",
       "A10NMELR4KX0J6         0.0         0.0         0.0         0.0         0.0   \n",
       "A10Y058K7B96C6         0.0         0.0         0.0         0.0         0.0   \n",
       "A10ZFE6YE0UHW8         0.0         0.0         0.0         0.0         0.0   \n",
       "\n",
       "productId       B00LI4ZZO8  \n",
       "userId                      \n",
       "A100UD67AHFODS         0.0  \n",
       "A100WO06OQR8BQ         0.0  \n",
       "A10NMELR4KX0J6         0.0  \n",
       "A10Y058K7B96C6         0.0  \n",
       "A10ZFE6YE0UHW8         0.0  \n",
       "\n",
       "[5 rows x 13824 columns]"
      ]
     },
     "execution_count": 114,
     "metadata": {},
     "output_type": "execute_result"
    }
   ],
   "source": [
    "utility_matrix.head()"
   ]
  },
  {
   "cell_type": "code",
   "execution_count": 115,
   "id": "b927d08e-c56d-47f9-afa8-9e1a9f78d6dd",
   "metadata": {},
   "outputs": [
    {
     "data": {
      "text/plain": [
       "(285, 13824)"
      ]
     },
     "execution_count": 115,
     "metadata": {},
     "output_type": "execute_result"
    }
   ],
   "source": [
    "utility_matrix.shape"
   ]
  },
  {
   "cell_type": "code",
   "execution_count": 116,
   "id": "6bf7bf0f-0aa9-4f28-8bf6-5638d22f5222",
   "metadata": {},
   "outputs": [
    {
     "name": "stdout",
     "output_type": "stream",
     "text": [
      "94177.0\n"
     ]
    }
   ],
   "source": [
    "non_zero_items = utility_matrix[utility_matrix!=0].sum(1).sum()\n",
    "print(non_zero_items)"
   ]
  },
  {
   "cell_type": "code",
   "execution_count": 117,
   "id": "ac6cee8f-498f-4cf8-b0c6-195095b9d2b6",
   "metadata": {},
   "outputs": [
    {
     "name": "stdout",
     "output_type": "stream",
     "text": [
      "3939840\n"
     ]
    }
   ],
   "source": [
    "total_possible_items = utility_matrix.shape[0] * utility_matrix.shape[1]\n",
    "print(total_possible_items)"
   ]
  },
  {
   "cell_type": "code",
   "execution_count": 118,
   "id": "6ba4ecc4-47cb-4491-9408-14c072ed25f8",
   "metadata": {},
   "outputs": [
    {
     "name": "stdout",
     "output_type": "stream",
     "text": [
      "0.9760962374106563\n"
     ]
    }
   ],
   "source": [
    "sparsity = 1 - (non_zero_items/total_possible_items)\n",
    "print(sparsity)"
   ]
  },
  {
   "cell_type": "markdown",
   "id": "76496999-c0fb-4863-bf97-ea5938d27f5d",
   "metadata": {},
   "source": [
    "## Popularity based recommendation "
   ]
  },
  {
   "cell_type": "code",
   "execution_count": 119,
   "id": "e77cec07-38ef-4fbd-b94d-30a572feac8c",
   "metadata": {},
   "outputs": [
    {
     "data": {
      "text/html": [
       "<div>\n",
       "<style scoped>\n",
       "    .dataframe tbody tr th:only-of-type {\n",
       "        vertical-align: middle;\n",
       "    }\n",
       "\n",
       "    .dataframe tbody tr th {\n",
       "        vertical-align: top;\n",
       "    }\n",
       "\n",
       "    .dataframe thead th {\n",
       "        text-align: right;\n",
       "    }\n",
       "</style>\n",
       "<table border=\"1\" class=\"dataframe\">\n",
       "  <thead>\n",
       "    <tr style=\"text-align: right;\">\n",
       "      <th></th>\n",
       "      <th>userId</th>\n",
       "      <th>productId</th>\n",
       "      <th>rating</th>\n",
       "    </tr>\n",
       "  </thead>\n",
       "  <tbody>\n",
       "    <tr>\n",
       "      <th>7250260</th>\n",
       "      <td>A3PD8JD9L4WEII</td>\n",
       "      <td>B00CEYDAZ2</td>\n",
       "      <td>5.0</td>\n",
       "    </tr>\n",
       "    <tr>\n",
       "      <th>1787552</th>\n",
       "      <td>A11I1I9QLMAM1A</td>\n",
       "      <td>B00189HR4Y</td>\n",
       "      <td>3.0</td>\n",
       "    </tr>\n",
       "    <tr>\n",
       "      <th>7824039</th>\n",
       "      <td>ADLVFFE4VBT8</td>\n",
       "      <td>B00L1I80K2</td>\n",
       "      <td>5.0</td>\n",
       "    </tr>\n",
       "    <tr>\n",
       "      <th>1182819</th>\n",
       "      <td>A38RMU1Y5TDP9</td>\n",
       "      <td>B000MX3SMC</td>\n",
       "      <td>4.0</td>\n",
       "    </tr>\n",
       "    <tr>\n",
       "      <th>7198369</th>\n",
       "      <td>A2NOW4U7W3F7RI</td>\n",
       "      <td>B00C0TH1HO</td>\n",
       "      <td>5.0</td>\n",
       "    </tr>\n",
       "  </tbody>\n",
       "</table>\n",
       "</div>"
      ],
      "text/plain": [
       "                 userId   productId  rating\n",
       "7250260  A3PD8JD9L4WEII  B00CEYDAZ2     5.0\n",
       "1787552  A11I1I9QLMAM1A  B00189HR4Y     3.0\n",
       "7824039    ADLVFFE4VBT8  B00L1I80K2     5.0\n",
       "1182819   A38RMU1Y5TDP9  B000MX3SMC     4.0\n",
       "7198369  A2NOW4U7W3F7RI  B00C0TH1HO     5.0"
      ]
     },
     "execution_count": 119,
     "metadata": {},
     "output_type": "execute_result"
    }
   ],
   "source": [
    "new_df.head()"
   ]
  },
  {
   "cell_type": "code",
   "execution_count": 120,
   "id": "b4226f0d-b525-4ac2-9694-efccba1e8a32",
   "metadata": {},
   "outputs": [],
   "source": [
    "product_grp = new_df.groupby('productId')['userId'].count().to_frame().reset_index()\n",
    "product_grp.columns = ['productId', 'score']\n",
    "product_grp = product_grp.sort_values(by='score',ascending=False)"
   ]
  },
  {
   "cell_type": "code",
   "execution_count": 121,
   "id": "5bbf49b2-9757-45b2-9be7-a7dba4f485f9",
   "metadata": {},
   "outputs": [
    {
     "data": {
      "text/html": [
       "<div>\n",
       "<style scoped>\n",
       "    .dataframe tbody tr th:only-of-type {\n",
       "        vertical-align: middle;\n",
       "    }\n",
       "\n",
       "    .dataframe tbody tr th {\n",
       "        vertical-align: top;\n",
       "    }\n",
       "\n",
       "    .dataframe thead th {\n",
       "        text-align: right;\n",
       "    }\n",
       "</style>\n",
       "<table border=\"1\" class=\"dataframe\">\n",
       "  <thead>\n",
       "    <tr style=\"text-align: right;\">\n",
       "      <th></th>\n",
       "      <th>productId</th>\n",
       "      <th>score</th>\n",
       "    </tr>\n",
       "  </thead>\n",
       "  <tbody>\n",
       "    <tr>\n",
       "      <th>10872</th>\n",
       "      <td>B0088CJT4U</td>\n",
       "      <td>39</td>\n",
       "    </tr>\n",
       "    <tr>\n",
       "      <th>6372</th>\n",
       "      <td>B002R5AM7C</td>\n",
       "      <td>32</td>\n",
       "    </tr>\n",
       "    <tr>\n",
       "      <th>10777</th>\n",
       "      <td>B00829THK0</td>\n",
       "      <td>32</td>\n",
       "    </tr>\n",
       "    <tr>\n",
       "      <th>7137</th>\n",
       "      <td>B003ES5ZUU</td>\n",
       "      <td>30</td>\n",
       "    </tr>\n",
       "    <tr>\n",
       "      <th>3194</th>\n",
       "      <td>B000N99BBC</td>\n",
       "      <td>30</td>\n",
       "    </tr>\n",
       "  </tbody>\n",
       "</table>\n",
       "</div>"
      ],
      "text/plain": [
       "        productId  score\n",
       "10872  B0088CJT4U     39\n",
       "6372   B002R5AM7C     32\n",
       "10777  B00829THK0     32\n",
       "7137   B003ES5ZUU     30\n",
       "3194   B000N99BBC     30"
      ]
     },
     "execution_count": 121,
     "metadata": {},
     "output_type": "execute_result"
    }
   ],
   "source": [
    "product_grp.head()"
   ]
  },
  {
   "cell_type": "code",
   "execution_count": 122,
   "id": "c88d63f6-eb0c-4949-9b40-c957f5555dcc",
   "metadata": {},
   "outputs": [
    {
     "data": {
      "text/plain": [
       "1     10188\n",
       "2      1889\n",
       "3       800\n",
       "4       400\n",
       "5       204\n",
       "6       105\n",
       "7        68\n",
       "8        49\n",
       "9        32\n",
       "10       21\n",
       "11       12\n",
       "12        9\n",
       "13        9\n",
       "15        8\n",
       "14        6\n",
       "19        6\n",
       "16        3\n",
       "18        3\n",
       "30        3\n",
       "32        2\n",
       "17        2\n",
       "21        1\n",
       "22        1\n",
       "25        1\n",
       "26        1\n",
       "39        1\n",
       "Name: score, dtype: int64"
      ]
     },
     "execution_count": 122,
     "metadata": {},
     "output_type": "execute_result"
    }
   ],
   "source": [
    "product_grp.score.value_counts()"
   ]
  },
  {
   "cell_type": "code",
   "execution_count": 123,
   "id": "285f527f-0c20-420e-aaf0-356451834254",
   "metadata": {},
   "outputs": [],
   "source": [
    "product_grp['Rank'] = product_grp.score.rank(ascending=0, method='first')"
   ]
  },
  {
   "cell_type": "code",
   "execution_count": 124,
   "id": "a44b681b-b739-46b1-ac80-db6269c8803a",
   "metadata": {},
   "outputs": [
    {
     "data": {
      "text/html": [
       "<div>\n",
       "<style scoped>\n",
       "    .dataframe tbody tr th:only-of-type {\n",
       "        vertical-align: middle;\n",
       "    }\n",
       "\n",
       "    .dataframe tbody tr th {\n",
       "        vertical-align: top;\n",
       "    }\n",
       "\n",
       "    .dataframe thead th {\n",
       "        text-align: right;\n",
       "    }\n",
       "</style>\n",
       "<table border=\"1\" class=\"dataframe\">\n",
       "  <thead>\n",
       "    <tr style=\"text-align: right;\">\n",
       "      <th></th>\n",
       "      <th>productId</th>\n",
       "      <th>score</th>\n",
       "      <th>Rank</th>\n",
       "    </tr>\n",
       "  </thead>\n",
       "  <tbody>\n",
       "    <tr>\n",
       "      <th>10872</th>\n",
       "      <td>B0088CJT4U</td>\n",
       "      <td>39</td>\n",
       "      <td>1.0</td>\n",
       "    </tr>\n",
       "    <tr>\n",
       "      <th>6372</th>\n",
       "      <td>B002R5AM7C</td>\n",
       "      <td>32</td>\n",
       "      <td>2.0</td>\n",
       "    </tr>\n",
       "    <tr>\n",
       "      <th>10777</th>\n",
       "      <td>B00829THK0</td>\n",
       "      <td>32</td>\n",
       "      <td>3.0</td>\n",
       "    </tr>\n",
       "    <tr>\n",
       "      <th>7137</th>\n",
       "      <td>B003ES5ZUU</td>\n",
       "      <td>30</td>\n",
       "      <td>4.0</td>\n",
       "    </tr>\n",
       "    <tr>\n",
       "      <th>3194</th>\n",
       "      <td>B000N99BBC</td>\n",
       "      <td>30</td>\n",
       "      <td>5.0</td>\n",
       "    </tr>\n",
       "  </tbody>\n",
       "</table>\n",
       "</div>"
      ],
      "text/plain": [
       "        productId  score  Rank\n",
       "10872  B0088CJT4U     39   1.0\n",
       "6372   B002R5AM7C     32   2.0\n",
       "10777  B00829THK0     32   3.0\n",
       "7137   B003ES5ZUU     30   4.0\n",
       "3194   B000N99BBC     30   5.0"
      ]
     },
     "execution_count": 124,
     "metadata": {},
     "output_type": "execute_result"
    }
   ],
   "source": [
    "product_grp.head()"
   ]
  },
  {
   "cell_type": "markdown",
   "id": "98ded49c-f44c-449d-8c3d-8a5a5a6ad2da",
   "metadata": {},
   "source": [
    "These are the most popular items. We can recommend the users these products as a starting point"
   ]
  },
  {
   "cell_type": "markdown",
   "id": "eab27f0b-857a-4098-8c9c-e0d676d9f67f",
   "metadata": {},
   "source": [
    "## Collaborative filtering"
   ]
  },
  {
   "cell_type": "code",
   "execution_count": 311,
   "id": "426a8db8-d301-43e3-9506-3d6a7f3b4926",
   "metadata": {},
   "outputs": [],
   "source": [
    "from surprise import Dataset\n",
    "from surprise import accuracy\n",
    "from surprise import Reader\n",
    "from surprise import KNNWithMeans\n",
    "import os\n",
    "from surprise.model_selection import train_test_split\n",
    "from collections import defaultdict"
   ]
  },
  {
   "cell_type": "code",
   "execution_count": 312,
   "id": "a79f1b47-0b1b-48dd-a53b-d9d40f286186",
   "metadata": {},
   "outputs": [
    {
     "data": {
      "text/html": [
       "<div>\n",
       "<style scoped>\n",
       "    .dataframe tbody tr th:only-of-type {\n",
       "        vertical-align: middle;\n",
       "    }\n",
       "\n",
       "    .dataframe tbody tr th {\n",
       "        vertical-align: top;\n",
       "    }\n",
       "\n",
       "    .dataframe thead th {\n",
       "        text-align: right;\n",
       "    }\n",
       "</style>\n",
       "<table border=\"1\" class=\"dataframe\">\n",
       "  <thead>\n",
       "    <tr style=\"text-align: right;\">\n",
       "      <th></th>\n",
       "      <th>userId</th>\n",
       "      <th>productId</th>\n",
       "      <th>rating</th>\n",
       "    </tr>\n",
       "  </thead>\n",
       "  <tbody>\n",
       "    <tr>\n",
       "      <th>7250260</th>\n",
       "      <td>A3PD8JD9L4WEII</td>\n",
       "      <td>B00CEYDAZ2</td>\n",
       "      <td>5.0</td>\n",
       "    </tr>\n",
       "    <tr>\n",
       "      <th>1787552</th>\n",
       "      <td>A11I1I9QLMAM1A</td>\n",
       "      <td>B00189HR4Y</td>\n",
       "      <td>3.0</td>\n",
       "    </tr>\n",
       "    <tr>\n",
       "      <th>7824039</th>\n",
       "      <td>ADLVFFE4VBT8</td>\n",
       "      <td>B00L1I80K2</td>\n",
       "      <td>5.0</td>\n",
       "    </tr>\n",
       "    <tr>\n",
       "      <th>1182819</th>\n",
       "      <td>A38RMU1Y5TDP9</td>\n",
       "      <td>B000MX3SMC</td>\n",
       "      <td>4.0</td>\n",
       "    </tr>\n",
       "    <tr>\n",
       "      <th>7198369</th>\n",
       "      <td>A2NOW4U7W3F7RI</td>\n",
       "      <td>B00C0TH1HO</td>\n",
       "      <td>5.0</td>\n",
       "    </tr>\n",
       "  </tbody>\n",
       "</table>\n",
       "</div>"
      ],
      "text/plain": [
       "                 userId   productId  rating\n",
       "7250260  A3PD8JD9L4WEII  B00CEYDAZ2     5.0\n",
       "1787552  A11I1I9QLMAM1A  B00189HR4Y     3.0\n",
       "7824039    ADLVFFE4VBT8  B00L1I80K2     5.0\n",
       "1182819   A38RMU1Y5TDP9  B000MX3SMC     4.0\n",
       "7198369  A2NOW4U7W3F7RI  B00C0TH1HO     5.0"
      ]
     },
     "execution_count": 312,
     "metadata": {},
     "output_type": "execute_result"
    }
   ],
   "source": [
    "new_df.head()"
   ]
  },
  {
   "cell_type": "code",
   "execution_count": 313,
   "id": "a794f919-8f42-41bb-a49a-75b5295e67bd",
   "metadata": {},
   "outputs": [],
   "source": [
    "reader = Reader()\n",
    "data = Dataset.load_from_df(new_df, reader)"
   ]
  },
  {
   "cell_type": "code",
   "execution_count": 314,
   "id": "d8847104-4da0-4bda-81f8-288ac7b6dc31",
   "metadata": {},
   "outputs": [],
   "source": [
    "train, test = train_test_split(data, test_size=0.3, random_state=101)"
   ]
  },
  {
   "cell_type": "code",
   "execution_count": 315,
   "id": "81527a6e-6cbd-4747-a73d-5c2d07075c2f",
   "metadata": {},
   "outputs": [
    {
     "data": {
      "text/plain": [
       "<surprise.trainset.Trainset at 0x7ff6a8bf91c0>"
      ]
     },
     "execution_count": 315,
     "metadata": {},
     "output_type": "execute_result"
    }
   ],
   "source": [
    "train"
   ]
  },
  {
   "cell_type": "code",
   "execution_count": 316,
   "id": "5dbac5f2-3f43-47c3-a987-68f09a879a63",
   "metadata": {},
   "outputs": [
    {
     "data": {
      "text/plain": [
       "[('A3R19YKNL641X3', 'B00HSTFKCY', 4.0),\n",
       " ('A203OCQQ12MAVT', 'B00014K3V6', 5.0),\n",
       " ('A32O5FZH994CNY', 'B001UHMB5O', 4.0),\n",
       " ('A1KD8NJPZ01R37', 'B00005Q5X0', 2.0),\n",
       " ('A3L9E0YI7C5G0W', 'B00020S7XK', 5.0)]"
      ]
     },
     "execution_count": 316,
     "metadata": {},
     "output_type": "execute_result"
    }
   ],
   "source": [
    "test[:5]"
   ]
  },
  {
   "cell_type": "code",
   "execution_count": 317,
   "id": "168c190e-a564-4823-8162-2241ec4efb0d",
   "metadata": {},
   "outputs": [
    {
     "name": "stdout",
     "output_type": "stream",
     "text": [
      "Estimating biases using als...\n",
      "Computing the pearson_baseline similarity matrix...\n",
      "Done computing similarity matrix.\n"
     ]
    },
    {
     "data": {
      "text/plain": [
       "<surprise.prediction_algorithms.knns.KNNWithMeans at 0x7ff5a7222e20>"
      ]
     },
     "execution_count": 317,
     "metadata": {},
     "output_type": "execute_result"
    }
   ],
   "source": [
    "# Nearest neightbour model\n",
    "model = KNNWithMeans(k=50, sim_options={'name': 'pearson_baseline', 'user_based': True})\n",
    "model.fit(train)"
   ]
  },
  {
   "cell_type": "code",
   "execution_count": 318,
   "id": "0fd23537-07fb-4210-ae16-6531cb57f9cd",
   "metadata": {},
   "outputs": [],
   "source": [
    "preds = model.test(test)"
   ]
  },
  {
   "cell_type": "code",
   "execution_count": 319,
   "id": "43b259cc-3117-4e3a-a9f1-c1c5a5a32927",
   "metadata": {},
   "outputs": [
    {
     "data": {
      "text/plain": [
       "Prediction(uid='A22CW0ZHY3NJH8', iid='B000BRO3PA', r_ui=4.0, est=4.268439440993789, details={'was_impossible': True, 'reason': 'User and/or item is unknown.'})"
      ]
     },
     "execution_count": 319,
     "metadata": {},
     "output_type": "execute_result"
    }
   ],
   "source": [
    "preds[5]"
   ]
  },
  {
   "cell_type": "code",
   "execution_count": 320,
   "id": "71236c79-5d91-496e-ad25-c5028c2d9240",
   "metadata": {},
   "outputs": [],
   "source": [
    "pred = pd.DataFrame(preds)"
   ]
  },
  {
   "cell_type": "code",
   "execution_count": 321,
   "id": "4bbe7c31-0ca4-4b5b-a92c-cde49369f7b9",
   "metadata": {},
   "outputs": [
    {
     "data": {
      "text/plain": [
       "(6624, 5)"
      ]
     },
     "execution_count": 321,
     "metadata": {},
     "output_type": "execute_result"
    }
   ],
   "source": [
    "pred.shape"
   ]
  },
  {
   "cell_type": "code",
   "execution_count": 322,
   "id": "468b2df0-d64c-4fa1-934e-357ab132a050",
   "metadata": {},
   "outputs": [
    {
     "data": {
      "text/html": [
       "<div>\n",
       "<style scoped>\n",
       "    .dataframe tbody tr th:only-of-type {\n",
       "        vertical-align: middle;\n",
       "    }\n",
       "\n",
       "    .dataframe tbody tr th {\n",
       "        vertical-align: top;\n",
       "    }\n",
       "\n",
       "    .dataframe thead th {\n",
       "        text-align: right;\n",
       "    }\n",
       "</style>\n",
       "<table border=\"1\" class=\"dataframe\">\n",
       "  <thead>\n",
       "    <tr style=\"text-align: right;\">\n",
       "      <th></th>\n",
       "      <th>uid</th>\n",
       "      <th>iid</th>\n",
       "      <th>r_ui</th>\n",
       "      <th>est</th>\n",
       "      <th>details</th>\n",
       "    </tr>\n",
       "  </thead>\n",
       "  <tbody>\n",
       "    <tr>\n",
       "      <th>0</th>\n",
       "      <td>A3R19YKNL641X3</td>\n",
       "      <td>B00HSTFKCY</td>\n",
       "      <td>4.0</td>\n",
       "      <td>4.268439</td>\n",
       "      <td>{'was_impossible': True, 'reason': 'User and/o...</td>\n",
       "    </tr>\n",
       "    <tr>\n",
       "      <th>1</th>\n",
       "      <td>A203OCQQ12MAVT</td>\n",
       "      <td>B00014K3V6</td>\n",
       "      <td>5.0</td>\n",
       "      <td>4.444444</td>\n",
       "      <td>{'actual_k': 0, 'was_impossible': False}</td>\n",
       "    </tr>\n",
       "    <tr>\n",
       "      <th>2</th>\n",
       "      <td>A32O5FZH994CNY</td>\n",
       "      <td>B001UHMB5O</td>\n",
       "      <td>4.0</td>\n",
       "      <td>4.268439</td>\n",
       "      <td>{'was_impossible': True, 'reason': 'User and/o...</td>\n",
       "    </tr>\n",
       "    <tr>\n",
       "      <th>3</th>\n",
       "      <td>A1KD8NJPZ01R37</td>\n",
       "      <td>B00005Q5X0</td>\n",
       "      <td>2.0</td>\n",
       "      <td>4.268439</td>\n",
       "      <td>{'was_impossible': True, 'reason': 'User and/o...</td>\n",
       "    </tr>\n",
       "    <tr>\n",
       "      <th>4</th>\n",
       "      <td>A3L9E0YI7C5G0W</td>\n",
       "      <td>B00020S7XK</td>\n",
       "      <td>5.0</td>\n",
       "      <td>4.472222</td>\n",
       "      <td>{'actual_k': 0, 'was_impossible': False}</td>\n",
       "    </tr>\n",
       "  </tbody>\n",
       "</table>\n",
       "</div>"
      ],
      "text/plain": [
       "              uid         iid  r_ui       est  \\\n",
       "0  A3R19YKNL641X3  B00HSTFKCY   4.0  4.268439   \n",
       "1  A203OCQQ12MAVT  B00014K3V6   5.0  4.444444   \n",
       "2  A32O5FZH994CNY  B001UHMB5O   4.0  4.268439   \n",
       "3  A1KD8NJPZ01R37  B00005Q5X0   2.0  4.268439   \n",
       "4  A3L9E0YI7C5G0W  B00020S7XK   5.0  4.472222   \n",
       "\n",
       "                                             details  \n",
       "0  {'was_impossible': True, 'reason': 'User and/o...  \n",
       "1           {'actual_k': 0, 'was_impossible': False}  \n",
       "2  {'was_impossible': True, 'reason': 'User and/o...  \n",
       "3  {'was_impossible': True, 'reason': 'User and/o...  \n",
       "4           {'actual_k': 0, 'was_impossible': False}  "
      ]
     },
     "execution_count": 322,
     "metadata": {},
     "output_type": "execute_result"
    }
   ],
   "source": [
    "pred.head()"
   ]
  },
  {
   "cell_type": "code",
   "execution_count": 323,
   "id": "10c6e1cf-5d32-4b51-913b-ab1dac9f0713",
   "metadata": {},
   "outputs": [
    {
     "data": {
      "text/plain": [
       "285"
      ]
     },
     "execution_count": 323,
     "metadata": {},
     "output_type": "execute_result"
    }
   ],
   "source": [
    "pred.uid.nunique()"
   ]
  },
  {
   "cell_type": "code",
   "execution_count": 324,
   "id": "63bb30fd-8d12-4964-8312-6a28e0262ba6",
   "metadata": {},
   "outputs": [
    {
     "data": {
      "text/plain": [
       "5340"
      ]
     },
     "execution_count": 324,
     "metadata": {},
     "output_type": "execute_result"
    }
   ],
   "source": [
    "pred.iid.nunique()"
   ]
  },
  {
   "cell_type": "code",
   "execution_count": 325,
   "id": "162a74b5-7d9f-45c9-9489-905455a1cc55",
   "metadata": {},
   "outputs": [
    {
     "data": {
      "text/html": [
       "<div>\n",
       "<style scoped>\n",
       "    .dataframe tbody tr th:only-of-type {\n",
       "        vertical-align: middle;\n",
       "    }\n",
       "\n",
       "    .dataframe tbody tr th {\n",
       "        vertical-align: top;\n",
       "    }\n",
       "\n",
       "    .dataframe thead th {\n",
       "        text-align: right;\n",
       "    }\n",
       "</style>\n",
       "<table border=\"1\" class=\"dataframe\">\n",
       "  <thead>\n",
       "    <tr style=\"text-align: right;\">\n",
       "      <th></th>\n",
       "      <th>uid</th>\n",
       "      <th>iid</th>\n",
       "      <th>r_ui</th>\n",
       "      <th>est</th>\n",
       "      <th>details</th>\n",
       "    </tr>\n",
       "  </thead>\n",
       "  <tbody>\n",
       "    <tr>\n",
       "      <th>0</th>\n",
       "      <td>A3R19YKNL641X3</td>\n",
       "      <td>B00HSTFKCY</td>\n",
       "      <td>4.0</td>\n",
       "      <td>4.268439</td>\n",
       "      <td>{'was_impossible': True, 'reason': 'User and/o...</td>\n",
       "    </tr>\n",
       "    <tr>\n",
       "      <th>1</th>\n",
       "      <td>A203OCQQ12MAVT</td>\n",
       "      <td>B00014K3V6</td>\n",
       "      <td>5.0</td>\n",
       "      <td>4.444444</td>\n",
       "      <td>{'actual_k': 0, 'was_impossible': False}</td>\n",
       "    </tr>\n",
       "    <tr>\n",
       "      <th>2</th>\n",
       "      <td>A32O5FZH994CNY</td>\n",
       "      <td>B001UHMB5O</td>\n",
       "      <td>4.0</td>\n",
       "      <td>4.268439</td>\n",
       "      <td>{'was_impossible': True, 'reason': 'User and/o...</td>\n",
       "    </tr>\n",
       "    <tr>\n",
       "      <th>3</th>\n",
       "      <td>A1KD8NJPZ01R37</td>\n",
       "      <td>B00005Q5X0</td>\n",
       "      <td>2.0</td>\n",
       "      <td>4.268439</td>\n",
       "      <td>{'was_impossible': True, 'reason': 'User and/o...</td>\n",
       "    </tr>\n",
       "    <tr>\n",
       "      <th>4</th>\n",
       "      <td>A3L9E0YI7C5G0W</td>\n",
       "      <td>B00020S7XK</td>\n",
       "      <td>5.0</td>\n",
       "      <td>4.472222</td>\n",
       "      <td>{'actual_k': 0, 'was_impossible': False}</td>\n",
       "    </tr>\n",
       "    <tr>\n",
       "      <th>...</th>\n",
       "      <td>...</td>\n",
       "      <td>...</td>\n",
       "      <td>...</td>\n",
       "      <td>...</td>\n",
       "      <td>...</td>\n",
       "    </tr>\n",
       "    <tr>\n",
       "      <th>6619</th>\n",
       "      <td>A2SKEQT0WTB954</td>\n",
       "      <td>B0056KEPVO</td>\n",
       "      <td>5.0</td>\n",
       "      <td>4.541667</td>\n",
       "      <td>{'actual_k': 0, 'was_impossible': False}</td>\n",
       "    </tr>\n",
       "    <tr>\n",
       "      <th>6620</th>\n",
       "      <td>A2Y739CRM15WDL</td>\n",
       "      <td>B009WZRBPQ</td>\n",
       "      <td>4.0</td>\n",
       "      <td>3.973684</td>\n",
       "      <td>{'actual_k': 0, 'was_impossible': False}</td>\n",
       "    </tr>\n",
       "    <tr>\n",
       "      <th>6621</th>\n",
       "      <td>A2HMF8ZR67BNZS</td>\n",
       "      <td>B000MX48VM</td>\n",
       "      <td>4.0</td>\n",
       "      <td>4.767442</td>\n",
       "      <td>{'actual_k': 0, 'was_impossible': False}</td>\n",
       "    </tr>\n",
       "    <tr>\n",
       "      <th>6622</th>\n",
       "      <td>A3FEGTOLCWXSV4</td>\n",
       "      <td>B000TXNS6G</td>\n",
       "      <td>5.0</td>\n",
       "      <td>4.268439</td>\n",
       "      <td>{'was_impossible': True, 'reason': 'User and/o...</td>\n",
       "    </tr>\n",
       "    <tr>\n",
       "      <th>6623</th>\n",
       "      <td>A9Y5O2R4D6EH5</td>\n",
       "      <td>B006THIULY</td>\n",
       "      <td>4.0</td>\n",
       "      <td>4.073171</td>\n",
       "      <td>{'actual_k': 0, 'was_impossible': False}</td>\n",
       "    </tr>\n",
       "  </tbody>\n",
       "</table>\n",
       "<p>6624 rows × 5 columns</p>\n",
       "</div>"
      ],
      "text/plain": [
       "                 uid         iid  r_ui       est  \\\n",
       "0     A3R19YKNL641X3  B00HSTFKCY   4.0  4.268439   \n",
       "1     A203OCQQ12MAVT  B00014K3V6   5.0  4.444444   \n",
       "2     A32O5FZH994CNY  B001UHMB5O   4.0  4.268439   \n",
       "3     A1KD8NJPZ01R37  B00005Q5X0   2.0  4.268439   \n",
       "4     A3L9E0YI7C5G0W  B00020S7XK   5.0  4.472222   \n",
       "...              ...         ...   ...       ...   \n",
       "6619  A2SKEQT0WTB954  B0056KEPVO   5.0  4.541667   \n",
       "6620  A2Y739CRM15WDL  B009WZRBPQ   4.0  3.973684   \n",
       "6621  A2HMF8ZR67BNZS  B000MX48VM   4.0  4.767442   \n",
       "6622  A3FEGTOLCWXSV4  B000TXNS6G   5.0  4.268439   \n",
       "6623   A9Y5O2R4D6EH5  B006THIULY   4.0  4.073171   \n",
       "\n",
       "                                                details  \n",
       "0     {'was_impossible': True, 'reason': 'User and/o...  \n",
       "1              {'actual_k': 0, 'was_impossible': False}  \n",
       "2     {'was_impossible': True, 'reason': 'User and/o...  \n",
       "3     {'was_impossible': True, 'reason': 'User and/o...  \n",
       "4              {'actual_k': 0, 'was_impossible': False}  \n",
       "...                                                 ...  \n",
       "6619           {'actual_k': 0, 'was_impossible': False}  \n",
       "6620           {'actual_k': 0, 'was_impossible': False}  \n",
       "6621           {'actual_k': 0, 'was_impossible': False}  \n",
       "6622  {'was_impossible': True, 'reason': 'User and/o...  \n",
       "6623           {'actual_k': 0, 'was_impossible': False}  \n",
       "\n",
       "[6624 rows x 5 columns]"
      ]
     },
     "execution_count": 325,
     "metadata": {},
     "output_type": "execute_result"
    }
   ],
   "source": [
    "pred"
   ]
  },
  {
   "cell_type": "code",
   "execution_count": 326,
   "id": "c129a937-b2f1-4ac4-9684-9a80ab01b0b2",
   "metadata": {},
   "outputs": [],
   "source": [
    "# Selecting the 5 largest product id scores for each user\n",
    "knn = pred.groupby(['uid'])['est'].nlargest(5).reset_index()['level_1'].to_list()"
   ]
  },
  {
   "cell_type": "code",
   "execution_count": 327,
   "id": "4d19e3ed-c075-42f9-8b84-518f17303e5f",
   "metadata": {},
   "outputs": [],
   "source": [
    "knn = pred.iloc[knn]"
   ]
  },
  {
   "cell_type": "code",
   "execution_count": 328,
   "id": "22a9211f-0571-4172-9e67-f2a304c8715f",
   "metadata": {},
   "outputs": [
    {
     "data": {
      "text/html": [
       "<div>\n",
       "<style scoped>\n",
       "    .dataframe tbody tr th:only-of-type {\n",
       "        vertical-align: middle;\n",
       "    }\n",
       "\n",
       "    .dataframe tbody tr th {\n",
       "        vertical-align: top;\n",
       "    }\n",
       "\n",
       "    .dataframe thead th {\n",
       "        text-align: right;\n",
       "    }\n",
       "</style>\n",
       "<table border=\"1\" class=\"dataframe\">\n",
       "  <thead>\n",
       "    <tr style=\"text-align: right;\">\n",
       "      <th></th>\n",
       "      <th>uid</th>\n",
       "      <th>iid</th>\n",
       "      <th>r_ui</th>\n",
       "      <th>est</th>\n",
       "      <th>details</th>\n",
       "    </tr>\n",
       "  </thead>\n",
       "  <tbody>\n",
       "    <tr>\n",
       "      <th>2492</th>\n",
       "      <td>A231WM2Z2JL0U3</td>\n",
       "      <td>B000066E70</td>\n",
       "      <td>5.0</td>\n",
       "      <td>5.000000</td>\n",
       "      <td>{'actual_k': 1, 'was_impossible': False}</td>\n",
       "    </tr>\n",
       "    <tr>\n",
       "      <th>3003</th>\n",
       "      <td>A231WM2Z2JL0U3</td>\n",
       "      <td>B0001G6U5M</td>\n",
       "      <td>5.0</td>\n",
       "      <td>5.000000</td>\n",
       "      <td>{'actual_k': 1, 'was_impossible': False}</td>\n",
       "    </tr>\n",
       "    <tr>\n",
       "      <th>1014</th>\n",
       "      <td>A231WM2Z2JL0U3</td>\n",
       "      <td>B00004THDE</td>\n",
       "      <td>5.0</td>\n",
       "      <td>4.342857</td>\n",
       "      <td>{'actual_k': 0, 'was_impossible': False}</td>\n",
       "    </tr>\n",
       "    <tr>\n",
       "      <th>4915</th>\n",
       "      <td>A231WM2Z2JL0U3</td>\n",
       "      <td>B00006LV79</td>\n",
       "      <td>3.0</td>\n",
       "      <td>4.342857</td>\n",
       "      <td>{'actual_k': 0, 'was_impossible': False}</td>\n",
       "    </tr>\n",
       "    <tr>\n",
       "      <th>5715</th>\n",
       "      <td>A231WM2Z2JL0U3</td>\n",
       "      <td>B00007KDVI</td>\n",
       "      <td>5.0</td>\n",
       "      <td>4.342857</td>\n",
       "      <td>{'actual_k': 0, 'was_impossible': False}</td>\n",
       "    </tr>\n",
       "  </tbody>\n",
       "</table>\n",
       "</div>"
      ],
      "text/plain": [
       "                 uid         iid  r_ui       est  \\\n",
       "2492  A231WM2Z2JL0U3  B000066E70   5.0  5.000000   \n",
       "3003  A231WM2Z2JL0U3  B0001G6U5M   5.0  5.000000   \n",
       "1014  A231WM2Z2JL0U3  B00004THDE   5.0  4.342857   \n",
       "4915  A231WM2Z2JL0U3  B00006LV79   3.0  4.342857   \n",
       "5715  A231WM2Z2JL0U3  B00007KDVI   5.0  4.342857   \n",
       "\n",
       "                                       details  \n",
       "2492  {'actual_k': 1, 'was_impossible': False}  \n",
       "3003  {'actual_k': 1, 'was_impossible': False}  \n",
       "1014  {'actual_k': 0, 'was_impossible': False}  \n",
       "4915  {'actual_k': 0, 'was_impossible': False}  \n",
       "5715  {'actual_k': 0, 'was_impossible': False}  "
      ]
     },
     "execution_count": 328,
     "metadata": {},
     "output_type": "execute_result"
    }
   ],
   "source": [
    "# Recommendation\n",
    "knn[knn.uid=='A231WM2Z2JL0U3']"
   ]
  },
  {
   "cell_type": "code",
   "execution_count": 329,
   "id": "c84e463d-0055-46a1-9c48-19fe7b289196",
   "metadata": {},
   "outputs": [
    {
     "data": {
      "text/html": [
       "<div>\n",
       "<style scoped>\n",
       "    .dataframe tbody tr th:only-of-type {\n",
       "        vertical-align: middle;\n",
       "    }\n",
       "\n",
       "    .dataframe tbody tr th {\n",
       "        vertical-align: top;\n",
       "    }\n",
       "\n",
       "    .dataframe thead th {\n",
       "        text-align: right;\n",
       "    }\n",
       "</style>\n",
       "<table border=\"1\" class=\"dataframe\">\n",
       "  <thead>\n",
       "    <tr style=\"text-align: right;\">\n",
       "      <th></th>\n",
       "      <th>uid</th>\n",
       "      <th>iid</th>\n",
       "      <th>r_ui</th>\n",
       "      <th>est</th>\n",
       "      <th>details</th>\n",
       "    </tr>\n",
       "  </thead>\n",
       "  <tbody>\n",
       "    <tr>\n",
       "      <th>42</th>\n",
       "      <td>A231WM2Z2JL0U3</td>\n",
       "      <td>B00005OMZN</td>\n",
       "      <td>3.0</td>\n",
       "      <td>4.268439</td>\n",
       "      <td>{'was_impossible': True, 'reason': 'User and/o...</td>\n",
       "    </tr>\n",
       "    <tr>\n",
       "      <th>4147</th>\n",
       "      <td>A231WM2Z2JL0U3</td>\n",
       "      <td>B00003CWCI</td>\n",
       "      <td>4.0</td>\n",
       "      <td>4.268439</td>\n",
       "      <td>{'was_impossible': True, 'reason': 'User and/o...</td>\n",
       "    </tr>\n",
       "    <tr>\n",
       "      <th>4175</th>\n",
       "      <td>A231WM2Z2JL0U3</td>\n",
       "      <td>B000063CWO</td>\n",
       "      <td>4.0</td>\n",
       "      <td>4.268439</td>\n",
       "      <td>{'was_impossible': True, 'reason': 'User and/o...</td>\n",
       "    </tr>\n",
       "    <tr>\n",
       "      <th>4302</th>\n",
       "      <td>A231WM2Z2JL0U3</td>\n",
       "      <td>B0000630TO</td>\n",
       "      <td>5.0</td>\n",
       "      <td>4.268439</td>\n",
       "      <td>{'was_impossible': True, 'reason': 'User and/o...</td>\n",
       "    </tr>\n",
       "    <tr>\n",
       "      <th>4491</th>\n",
       "      <td>A231WM2Z2JL0U3</td>\n",
       "      <td>B00004XO1V</td>\n",
       "      <td>5.0</td>\n",
       "      <td>4.268439</td>\n",
       "      <td>{'was_impossible': True, 'reason': 'User and/o...</td>\n",
       "    </tr>\n",
       "    <tr>\n",
       "      <th>4566</th>\n",
       "      <td>A231WM2Z2JL0U3</td>\n",
       "      <td>B00006LS92</td>\n",
       "      <td>3.0</td>\n",
       "      <td>4.268439</td>\n",
       "      <td>{'was_impossible': True, 'reason': 'User and/o...</td>\n",
       "    </tr>\n",
       "    <tr>\n",
       "      <th>4741</th>\n",
       "      <td>A231WM2Z2JL0U3</td>\n",
       "      <td>B00005KAMS</td>\n",
       "      <td>3.0</td>\n",
       "      <td>4.268439</td>\n",
       "      <td>{'was_impossible': True, 'reason': 'User and/o...</td>\n",
       "    </tr>\n",
       "    <tr>\n",
       "      <th>3856</th>\n",
       "      <td>A231WM2Z2JL0U3</td>\n",
       "      <td>B00006JKXN</td>\n",
       "      <td>4.0</td>\n",
       "      <td>4.268439</td>\n",
       "      <td>{'was_impossible': True, 'reason': 'User and/o...</td>\n",
       "    </tr>\n",
       "    <tr>\n",
       "      <th>4903</th>\n",
       "      <td>A231WM2Z2JL0U3</td>\n",
       "      <td>B00005MEMN</td>\n",
       "      <td>4.0</td>\n",
       "      <td>4.268439</td>\n",
       "      <td>{'was_impossible': True, 'reason': 'User and/o...</td>\n",
       "    </tr>\n",
       "    <tr>\n",
       "      <th>5356</th>\n",
       "      <td>A231WM2Z2JL0U3</td>\n",
       "      <td>B00004U9NP</td>\n",
       "      <td>4.0</td>\n",
       "      <td>4.268439</td>\n",
       "      <td>{'was_impossible': True, 'reason': 'User and/o...</td>\n",
       "    </tr>\n",
       "    <tr>\n",
       "      <th>5379</th>\n",
       "      <td>A231WM2Z2JL0U3</td>\n",
       "      <td>B0001D3K8A</td>\n",
       "      <td>5.0</td>\n",
       "      <td>4.268439</td>\n",
       "      <td>{'was_impossible': True, 'reason': 'User and/o...</td>\n",
       "    </tr>\n",
       "    <tr>\n",
       "      <th>5453</th>\n",
       "      <td>A231WM2Z2JL0U3</td>\n",
       "      <td>B00004W3YX</td>\n",
       "      <td>5.0</td>\n",
       "      <td>4.268439</td>\n",
       "      <td>{'was_impossible': True, 'reason': 'User and/o...</td>\n",
       "    </tr>\n",
       "    <tr>\n",
       "      <th>5614</th>\n",
       "      <td>A231WM2Z2JL0U3</td>\n",
       "      <td>B00008I8OP</td>\n",
       "      <td>5.0</td>\n",
       "      <td>4.268439</td>\n",
       "      <td>{'was_impossible': True, 'reason': 'User and/o...</td>\n",
       "    </tr>\n",
       "    <tr>\n",
       "      <th>5673</th>\n",
       "      <td>A231WM2Z2JL0U3</td>\n",
       "      <td>B00005U0I5</td>\n",
       "      <td>5.0</td>\n",
       "      <td>4.268439</td>\n",
       "      <td>{'was_impossible': True, 'reason': 'User and/o...</td>\n",
       "    </tr>\n",
       "    <tr>\n",
       "      <th>5953</th>\n",
       "      <td>A231WM2Z2JL0U3</td>\n",
       "      <td>B00006JI6T</td>\n",
       "      <td>5.0</td>\n",
       "      <td>4.268439</td>\n",
       "      <td>{'was_impossible': True, 'reason': 'User and/o...</td>\n",
       "    </tr>\n",
       "    <tr>\n",
       "      <th>4960</th>\n",
       "      <td>A231WM2Z2JL0U3</td>\n",
       "      <td>B00005QJCU</td>\n",
       "      <td>4.0</td>\n",
       "      <td>4.268439</td>\n",
       "      <td>{'was_impossible': True, 'reason': 'User and/o...</td>\n",
       "    </tr>\n",
       "    <tr>\n",
       "      <th>6058</th>\n",
       "      <td>A231WM2Z2JL0U3</td>\n",
       "      <td>B00005Y1Z6</td>\n",
       "      <td>5.0</td>\n",
       "      <td>4.268439</td>\n",
       "      <td>{'was_impossible': True, 'reason': 'User and/o...</td>\n",
       "    </tr>\n",
       "    <tr>\n",
       "      <th>3712</th>\n",
       "      <td>A231WM2Z2JL0U3</td>\n",
       "      <td>B00005137P</td>\n",
       "      <td>5.0</td>\n",
       "      <td>4.268439</td>\n",
       "      <td>{'was_impossible': True, 'reason': 'User and/o...</td>\n",
       "    </tr>\n",
       "    <tr>\n",
       "      <th>3032</th>\n",
       "      <td>A231WM2Z2JL0U3</td>\n",
       "      <td>B0000510NY</td>\n",
       "      <td>3.0</td>\n",
       "      <td>4.268439</td>\n",
       "      <td>{'was_impossible': True, 'reason': 'User and/o...</td>\n",
       "    </tr>\n",
       "    <tr>\n",
       "      <th>834</th>\n",
       "      <td>A231WM2Z2JL0U3</td>\n",
       "      <td>B0007TJ5OG</td>\n",
       "      <td>5.0</td>\n",
       "      <td>4.268439</td>\n",
       "      <td>{'was_impossible': True, 'reason': 'User and/o...</td>\n",
       "    </tr>\n",
       "    <tr>\n",
       "      <th>985</th>\n",
       "      <td>A231WM2Z2JL0U3</td>\n",
       "      <td>B00006HCCK</td>\n",
       "      <td>5.0</td>\n",
       "      <td>4.268439</td>\n",
       "      <td>{'was_impossible': True, 'reason': 'User and/o...</td>\n",
       "    </tr>\n",
       "    <tr>\n",
       "      <th>1043</th>\n",
       "      <td>A231WM2Z2JL0U3</td>\n",
       "      <td>B00008IHU2</td>\n",
       "      <td>5.0</td>\n",
       "      <td>4.268439</td>\n",
       "      <td>{'was_impossible': True, 'reason': 'User and/o...</td>\n",
       "    </tr>\n",
       "    <tr>\n",
       "      <th>1121</th>\n",
       "      <td>A231WM2Z2JL0U3</td>\n",
       "      <td>B00004SCKA</td>\n",
       "      <td>4.0</td>\n",
       "      <td>4.268439</td>\n",
       "      <td>{'was_impossible': True, 'reason': 'User and/o...</td>\n",
       "    </tr>\n",
       "    <tr>\n",
       "      <th>1149</th>\n",
       "      <td>A231WM2Z2JL0U3</td>\n",
       "      <td>B00005OMZT</td>\n",
       "      <td>5.0</td>\n",
       "      <td>4.268439</td>\n",
       "      <td>{'was_impossible': True, 'reason': 'User and/o...</td>\n",
       "    </tr>\n",
       "    <tr>\n",
       "      <th>1193</th>\n",
       "      <td>A231WM2Z2JL0U3</td>\n",
       "      <td>B000050AQ7</td>\n",
       "      <td>5.0</td>\n",
       "      <td>4.268439</td>\n",
       "      <td>{'was_impossible': True, 'reason': 'User and/o...</td>\n",
       "    </tr>\n",
       "    <tr>\n",
       "      <th>3196</th>\n",
       "      <td>A231WM2Z2JL0U3</td>\n",
       "      <td>B00022VBAE</td>\n",
       "      <td>2.0</td>\n",
       "      <td>4.268439</td>\n",
       "      <td>{'was_impossible': True, 'reason': 'User and/o...</td>\n",
       "    </tr>\n",
       "    <tr>\n",
       "      <th>6191</th>\n",
       "      <td>A231WM2Z2JL0U3</td>\n",
       "      <td>B000068BRB</td>\n",
       "      <td>4.0</td>\n",
       "      <td>4.268439</td>\n",
       "      <td>{'was_impossible': True, 'reason': 'User and/o...</td>\n",
       "    </tr>\n",
       "    <tr>\n",
       "      <th>1280</th>\n",
       "      <td>A231WM2Z2JL0U3</td>\n",
       "      <td>B00004R8VC</td>\n",
       "      <td>5.0</td>\n",
       "      <td>4.268439</td>\n",
       "      <td>{'was_impossible': True, 'reason': 'User and/o...</td>\n",
       "    </tr>\n",
       "    <tr>\n",
       "      <th>1461</th>\n",
       "      <td>A231WM2Z2JL0U3</td>\n",
       "      <td>B00005NHAC</td>\n",
       "      <td>5.0</td>\n",
       "      <td>4.268439</td>\n",
       "      <td>{'was_impossible': True, 'reason': 'User and/o...</td>\n",
       "    </tr>\n",
       "    <tr>\n",
       "      <th>1878</th>\n",
       "      <td>A231WM2Z2JL0U3</td>\n",
       "      <td>B00005B4BN</td>\n",
       "      <td>1.0</td>\n",
       "      <td>4.268439</td>\n",
       "      <td>{'was_impossible': True, 'reason': 'User and/o...</td>\n",
       "    </tr>\n",
       "    <tr>\n",
       "      <th>2638</th>\n",
       "      <td>A231WM2Z2JL0U3</td>\n",
       "      <td>B00005AYLL</td>\n",
       "      <td>5.0</td>\n",
       "      <td>4.268439</td>\n",
       "      <td>{'was_impossible': True, 'reason': 'User and/o...</td>\n",
       "    </tr>\n",
       "    <tr>\n",
       "      <th>2651</th>\n",
       "      <td>A231WM2Z2JL0U3</td>\n",
       "      <td>B00005LDQH</td>\n",
       "      <td>4.0</td>\n",
       "      <td>4.268439</td>\n",
       "      <td>{'was_impossible': True, 'reason': 'User and/o...</td>\n",
       "    </tr>\n",
       "    <tr>\n",
       "      <th>1241</th>\n",
       "      <td>A231WM2Z2JL0U3</td>\n",
       "      <td>B00006B1HC</td>\n",
       "      <td>5.0</td>\n",
       "      <td>4.268439</td>\n",
       "      <td>{'was_impossible': True, 'reason': 'User and/o...</td>\n",
       "    </tr>\n",
       "    <tr>\n",
       "      <th>1014</th>\n",
       "      <td>A231WM2Z2JL0U3</td>\n",
       "      <td>B00004THDE</td>\n",
       "      <td>5.0</td>\n",
       "      <td>4.342857</td>\n",
       "      <td>{'actual_k': 0, 'was_impossible': False}</td>\n",
       "    </tr>\n",
       "    <tr>\n",
       "      <th>5715</th>\n",
       "      <td>A231WM2Z2JL0U3</td>\n",
       "      <td>B00007KDVI</td>\n",
       "      <td>5.0</td>\n",
       "      <td>4.342857</td>\n",
       "      <td>{'actual_k': 0, 'was_impossible': False}</td>\n",
       "    </tr>\n",
       "    <tr>\n",
       "      <th>4915</th>\n",
       "      <td>A231WM2Z2JL0U3</td>\n",
       "      <td>B00006LV79</td>\n",
       "      <td>3.0</td>\n",
       "      <td>4.342857</td>\n",
       "      <td>{'actual_k': 0, 'was_impossible': False}</td>\n",
       "    </tr>\n",
       "    <tr>\n",
       "      <th>2492</th>\n",
       "      <td>A231WM2Z2JL0U3</td>\n",
       "      <td>B000066E70</td>\n",
       "      <td>5.0</td>\n",
       "      <td>5.000000</td>\n",
       "      <td>{'actual_k': 1, 'was_impossible': False}</td>\n",
       "    </tr>\n",
       "    <tr>\n",
       "      <th>3003</th>\n",
       "      <td>A231WM2Z2JL0U3</td>\n",
       "      <td>B0001G6U5M</td>\n",
       "      <td>5.0</td>\n",
       "      <td>5.000000</td>\n",
       "      <td>{'actual_k': 1, 'was_impossible': False}</td>\n",
       "    </tr>\n",
       "  </tbody>\n",
       "</table>\n",
       "</div>"
      ],
      "text/plain": [
       "                 uid         iid  r_ui       est  \\\n",
       "42    A231WM2Z2JL0U3  B00005OMZN   3.0  4.268439   \n",
       "4147  A231WM2Z2JL0U3  B00003CWCI   4.0  4.268439   \n",
       "4175  A231WM2Z2JL0U3  B000063CWO   4.0  4.268439   \n",
       "4302  A231WM2Z2JL0U3  B0000630TO   5.0  4.268439   \n",
       "4491  A231WM2Z2JL0U3  B00004XO1V   5.0  4.268439   \n",
       "4566  A231WM2Z2JL0U3  B00006LS92   3.0  4.268439   \n",
       "4741  A231WM2Z2JL0U3  B00005KAMS   3.0  4.268439   \n",
       "3856  A231WM2Z2JL0U3  B00006JKXN   4.0  4.268439   \n",
       "4903  A231WM2Z2JL0U3  B00005MEMN   4.0  4.268439   \n",
       "5356  A231WM2Z2JL0U3  B00004U9NP   4.0  4.268439   \n",
       "5379  A231WM2Z2JL0U3  B0001D3K8A   5.0  4.268439   \n",
       "5453  A231WM2Z2JL0U3  B00004W3YX   5.0  4.268439   \n",
       "5614  A231WM2Z2JL0U3  B00008I8OP   5.0  4.268439   \n",
       "5673  A231WM2Z2JL0U3  B00005U0I5   5.0  4.268439   \n",
       "5953  A231WM2Z2JL0U3  B00006JI6T   5.0  4.268439   \n",
       "4960  A231WM2Z2JL0U3  B00005QJCU   4.0  4.268439   \n",
       "6058  A231WM2Z2JL0U3  B00005Y1Z6   5.0  4.268439   \n",
       "3712  A231WM2Z2JL0U3  B00005137P   5.0  4.268439   \n",
       "3032  A231WM2Z2JL0U3  B0000510NY   3.0  4.268439   \n",
       "834   A231WM2Z2JL0U3  B0007TJ5OG   5.0  4.268439   \n",
       "985   A231WM2Z2JL0U3  B00006HCCK   5.0  4.268439   \n",
       "1043  A231WM2Z2JL0U3  B00008IHU2   5.0  4.268439   \n",
       "1121  A231WM2Z2JL0U3  B00004SCKA   4.0  4.268439   \n",
       "1149  A231WM2Z2JL0U3  B00005OMZT   5.0  4.268439   \n",
       "1193  A231WM2Z2JL0U3  B000050AQ7   5.0  4.268439   \n",
       "3196  A231WM2Z2JL0U3  B00022VBAE   2.0  4.268439   \n",
       "6191  A231WM2Z2JL0U3  B000068BRB   4.0  4.268439   \n",
       "1280  A231WM2Z2JL0U3  B00004R8VC   5.0  4.268439   \n",
       "1461  A231WM2Z2JL0U3  B00005NHAC   5.0  4.268439   \n",
       "1878  A231WM2Z2JL0U3  B00005B4BN   1.0  4.268439   \n",
       "2638  A231WM2Z2JL0U3  B00005AYLL   5.0  4.268439   \n",
       "2651  A231WM2Z2JL0U3  B00005LDQH   4.0  4.268439   \n",
       "1241  A231WM2Z2JL0U3  B00006B1HC   5.0  4.268439   \n",
       "1014  A231WM2Z2JL0U3  B00004THDE   5.0  4.342857   \n",
       "5715  A231WM2Z2JL0U3  B00007KDVI   5.0  4.342857   \n",
       "4915  A231WM2Z2JL0U3  B00006LV79   3.0  4.342857   \n",
       "2492  A231WM2Z2JL0U3  B000066E70   5.0  5.000000   \n",
       "3003  A231WM2Z2JL0U3  B0001G6U5M   5.0  5.000000   \n",
       "\n",
       "                                                details  \n",
       "42    {'was_impossible': True, 'reason': 'User and/o...  \n",
       "4147  {'was_impossible': True, 'reason': 'User and/o...  \n",
       "4175  {'was_impossible': True, 'reason': 'User and/o...  \n",
       "4302  {'was_impossible': True, 'reason': 'User and/o...  \n",
       "4491  {'was_impossible': True, 'reason': 'User and/o...  \n",
       "4566  {'was_impossible': True, 'reason': 'User and/o...  \n",
       "4741  {'was_impossible': True, 'reason': 'User and/o...  \n",
       "3856  {'was_impossible': True, 'reason': 'User and/o...  \n",
       "4903  {'was_impossible': True, 'reason': 'User and/o...  \n",
       "5356  {'was_impossible': True, 'reason': 'User and/o...  \n",
       "5379  {'was_impossible': True, 'reason': 'User and/o...  \n",
       "5453  {'was_impossible': True, 'reason': 'User and/o...  \n",
       "5614  {'was_impossible': True, 'reason': 'User and/o...  \n",
       "5673  {'was_impossible': True, 'reason': 'User and/o...  \n",
       "5953  {'was_impossible': True, 'reason': 'User and/o...  \n",
       "4960  {'was_impossible': True, 'reason': 'User and/o...  \n",
       "6058  {'was_impossible': True, 'reason': 'User and/o...  \n",
       "3712  {'was_impossible': True, 'reason': 'User and/o...  \n",
       "3032  {'was_impossible': True, 'reason': 'User and/o...  \n",
       "834   {'was_impossible': True, 'reason': 'User and/o...  \n",
       "985   {'was_impossible': True, 'reason': 'User and/o...  \n",
       "1043  {'was_impossible': True, 'reason': 'User and/o...  \n",
       "1121  {'was_impossible': True, 'reason': 'User and/o...  \n",
       "1149  {'was_impossible': True, 'reason': 'User and/o...  \n",
       "1193  {'was_impossible': True, 'reason': 'User and/o...  \n",
       "3196  {'was_impossible': True, 'reason': 'User and/o...  \n",
       "6191  {'was_impossible': True, 'reason': 'User and/o...  \n",
       "1280  {'was_impossible': True, 'reason': 'User and/o...  \n",
       "1461  {'was_impossible': True, 'reason': 'User and/o...  \n",
       "1878  {'was_impossible': True, 'reason': 'User and/o...  \n",
       "2638  {'was_impossible': True, 'reason': 'User and/o...  \n",
       "2651  {'was_impossible': True, 'reason': 'User and/o...  \n",
       "1241  {'was_impossible': True, 'reason': 'User and/o...  \n",
       "1014           {'actual_k': 0, 'was_impossible': False}  \n",
       "5715           {'actual_k': 0, 'was_impossible': False}  \n",
       "4915           {'actual_k': 0, 'was_impossible': False}  \n",
       "2492           {'actual_k': 1, 'was_impossible': False}  \n",
       "3003           {'actual_k': 1, 'was_impossible': False}  "
      ]
     },
     "execution_count": 329,
     "metadata": {},
     "output_type": "execute_result"
    }
   ],
   "source": [
    "pred[pred.uid=='A231WM2Z2JL0U3'].sort_values(by='est')"
   ]
  },
  {
   "cell_type": "code",
   "execution_count": 330,
   "id": "fd803b78-14b5-4a3c-9c66-1781fc5501c5",
   "metadata": {},
   "outputs": [
    {
     "name": "stdout",
     "output_type": "stream",
     "text": [
      "RMSE: 1.0365\n"
     ]
    },
    {
     "data": {
      "text/plain": [
       "1.036478881772479"
      ]
     },
     "execution_count": 330,
     "metadata": {},
     "output_type": "execute_result"
    }
   ],
   "source": [
    "# get RMSE\n",
    "accuracy.rmse(model.test(test), verbose=True)"
   ]
  },
  {
   "cell_type": "code",
   "execution_count": 331,
   "id": "6fe5e2fd-b67d-4cc5-9279-7ca4527844cc",
   "metadata": {},
   "outputs": [
    {
     "name": "stdout",
     "output_type": "stream",
     "text": [
      "user: A231WM2Z2JL0U3 item: B00004RC2D r_ui = 0.00   est = 4.00   {'actual_k': 1, 'was_impossible': False}\n"
     ]
    },
    {
     "data": {
      "text/plain": [
       "Prediction(uid='A231WM2Z2JL0U3', iid='B00004RC2D', r_ui=0.0, est=4.0, details={'actual_k': 1, 'was_impossible': False})"
      ]
     },
     "execution_count": 331,
     "metadata": {},
     "output_type": "execute_result"
    }
   ],
   "source": [
    "uid = \"A231WM2Z2JL0U3\" \n",
    "iid = \"B00004RC2D\" \n",
    "model.predict(uid, iid, r_ui=0.0, verbose=True)"
   ]
  }
 ],
 "metadata": {
  "kernelspec": {
   "display_name": "Python 3 (ipykernel)",
   "language": "python",
   "name": "python3"
  },
  "language_info": {
   "codemirror_mode": {
    "name": "ipython",
    "version": 3
   },
   "file_extension": ".py",
   "mimetype": "text/x-python",
   "name": "python",
   "nbconvert_exporter": "python",
   "pygments_lexer": "ipython3",
   "version": "3.8.11"
  }
 },
 "nbformat": 4,
 "nbformat_minor": 5
}
